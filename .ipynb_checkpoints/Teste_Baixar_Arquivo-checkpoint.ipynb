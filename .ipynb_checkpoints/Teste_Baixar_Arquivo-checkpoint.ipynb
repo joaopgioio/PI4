{
 "cells": [
  {
   "cell_type": "code",
   "execution_count": 1,
   "id": "c8f8f6ca",
   "metadata": {},
   "outputs": [
    {
     "name": "stdout",
     "output_type": "stream",
     "text": [
      "C:\\Users\\joaop\\PI4\n"
     ]
    }
   ],
   "source": [
    "import os\n",
    "os.getcwd()\n",
    "#os.chdir(\"C:\\\\Users\\\\joaop\\\\PI4\\\\data\" )\n",
    "print(os.getcwd())"
   ]
  },
  {
   "cell_type": "code",
   "execution_count": null,
   "id": "8b3a6e85",
   "metadata": {},
   "outputs": [],
   "source": [
    "!pip install selenium"
   ]
  },
  {
   "cell_type": "code",
   "execution_count": 2,
   "id": "840db9dc",
   "metadata": {},
   "outputs": [],
   "source": [
    "from selenium import webdriver\n",
    "from selenium.webdriver.common.by import By\n",
    "from datetime import datetime, date\n",
    "import time\n",
    "from pathlib import Path\n",
    "\n",
    "hoje = date.today()\n",
    "\n",
    "ano = hoje.strftime('%y')\n",
    "mes = str(hoje.month-1)\n",
    "dia = hoje.day\n",
    "\n",
    "ano = '22'\n",
    "ano_completo = '2022'\n",
    "mes = '3'\n",
    "dia = 15\n",
    "\n",
    "dir = \"C:\\\\Users\\\\joaop\\\\PI4\\\\data\"\n",
    "arquivo = Path(dir, 'DadosBO_'+ano_completo+'_'+mes+'(ROUBO DE CELULAR)'+'.csv')\n",
    "\n",
    "opcoes = webdriver.ChromeOptions()\n",
    "opcoes.add_experimental_option(\n",
    "    'prefs',{\n",
    "    #muda o diretorio default de download\n",
    "    \"download.default_directory\": \"C:\\\\Users\\\\joaop\\\\PI4\\\\data\",\n",
    "    \n",
    "    #verific se o diretorio foi atualizado\n",
    "    #define True para informar q o diretorio e seguro\n",
    "    \"download.directory_upgrade\": True,\n",
    "    \n",
    "    #define false para fazer o download automatico sem solicitar confirmacao\n",
    "    \"download.prompt_for_download\": False\n",
    "            \n",
    "    #\"extensionLoadTimeout\": 1200000\n",
    "               \n",
    "    }\n",
    ")\n",
    "#opcoes.add_argument(\"--headless\")\n",
    "opcoes.add_argument(\"--disable-gpu\")\n",
    "opcoes.add_argument(\"enable-features=NetworkServiceInProcess\")\n",
    "opcoes.add_argument(\"--no-sandbox\")\n",
    "\n",
    "if (dia == 15) & (not(arquivo.is_file())):\n",
    "    navegador = webdriver.Chrome(options=opcoes)\n",
    "    \n",
    "    navegador.get('https://www.ssp.sp.gov.br/transparenciassp/')\n",
    "    #botao_roubo_celular = navegador.find_element(By.XPATH, \"//a[@id='cphBody_btnRouboCelular']\").click()\n",
    "    botao_roubo_celular = navegador.find_element(By.ID, 'cphBody_btnRouboCelular').click()\n",
    "    ano_roubo_celular = navegador.find_element(By.ID, 'cphBody_lkAno'+ano).click()\n",
    "    mes_roubo_celular = navegador.find_element(By.ID, 'cphBody_lkMes'+mes).click()\n",
    "    # timeout de 20 min para aguardar que o arquivo consiga ser carregado\n",
    "    navegador.set_page_load_timeout(1200000)\n",
    "    botao_export = navegador.find_element(By.ID, 'cphBody_ExportarBOLink').click()\n",
    "    time.sleep(20)\n",
    "    navegador.quit()\n",
    "    "
   ]
  },
  {
   "cell_type": "code",
   "execution_count": 3,
   "id": "7641bd29",
   "metadata": {},
   "outputs": [
    {
     "ename": "NameError",
     "evalue": "name 'arquivo_nova' is not defined",
     "output_type": "error",
     "traceback": [
      "\u001b[1;31m---------------------------------------------------------------------------\u001b[0m",
      "\u001b[1;31mNameError\u001b[0m                                 Traceback (most recent call last)",
      "Cell \u001b[1;32mIn[3], line 5\u001b[0m\n\u001b[0;32m      3\u001b[0m arquivo_velho \u001b[38;5;241m=\u001b[39m os\u001b[38;5;241m.\u001b[39mpath\u001b[38;5;241m.\u001b[39mjoin(\u001b[38;5;28mdir\u001b[39m, \u001b[38;5;124m'\u001b[39m\u001b[38;5;124mDadosBO_\u001b[39m\u001b[38;5;124m'\u001b[39m\u001b[38;5;241m+\u001b[39mano_completo\u001b[38;5;241m+\u001b[39m\u001b[38;5;124m'\u001b[39m\u001b[38;5;124m_\u001b[39m\u001b[38;5;124m'\u001b[39m\u001b[38;5;241m+\u001b[39mmes\u001b[38;5;241m+\u001b[39m\u001b[38;5;124m'\u001b[39m\u001b[38;5;124m(ROUBO DE CELULAR)\u001b[39m\u001b[38;5;124m'\u001b[39m\u001b[38;5;241m+\u001b[39m\u001b[38;5;124m'\u001b[39m\u001b[38;5;124m.xls\u001b[39m\u001b[38;5;124m'\u001b[39m)\n\u001b[0;32m      4\u001b[0m arquivo_novo \u001b[38;5;241m=\u001b[39m os\u001b[38;5;241m.\u001b[39mpath\u001b[38;5;241m.\u001b[39mjoin(\u001b[38;5;28mdir\u001b[39m, \u001b[38;5;124m'\u001b[39m\u001b[38;5;124mDadosBO_\u001b[39m\u001b[38;5;124m'\u001b[39m\u001b[38;5;241m+\u001b[39mano_completo\u001b[38;5;241m+\u001b[39m\u001b[38;5;124m'\u001b[39m\u001b[38;5;124m_\u001b[39m\u001b[38;5;124m'\u001b[39m\u001b[38;5;241m+\u001b[39mmes\u001b[38;5;241m+\u001b[39m\u001b[38;5;124m'\u001b[39m\u001b[38;5;124m(ROUBO DE CELULAR)\u001b[39m\u001b[38;5;124m'\u001b[39m\u001b[38;5;241m+\u001b[39m\u001b[38;5;124m'\u001b[39m\u001b[38;5;124m.csv\u001b[39m\u001b[38;5;124m'\u001b[39m)\n\u001b[1;32m----> 5\u001b[0m os\u001b[38;5;241m.\u001b[39mrename(arquivo_velho, \u001b[43marquivo_nova\u001b[49m)\n",
      "\u001b[1;31mNameError\u001b[0m: name 'arquivo_nova' is not defined"
     ]
    }
   ],
   "source": [
    "# copiar arquivo baixado \n",
    "if (not(arquivo.is_file())):\n",
    "    arquivo_velho = os.path.join(dir, 'DadosBO_'+ano_completo+'_'+mes+'(ROUBO DE CELULAR)'+'.xls')\n",
    "    arquivo_novo = os.path.join(dir, 'DadosBO_'+ano_completo+'_'+mes+'(ROUBO DE CELULAR)'+'.csv')\n",
    "    os.rename(arquivo_velho, arquivo_nova)"
   ]
  },
  {
   "cell_type": "code",
   "execution_count": null,
   "id": "4db6671d",
   "metadata": {},
   "outputs": [],
   "source": [
    "!pip install squarify\n",
    "!pip install folium"
   ]
  },
  {
   "cell_type": "code",
   "execution_count": null,
   "id": "3f33c359",
   "metadata": {},
   "outputs": [],
   "source": [
    "# IMPORTANDO BIBLIOTECAS\n",
    "\n",
    "import pandas as pd\n",
    "import glob\n",
    "import re\n",
    "import itertools\n",
    "import numpy as np\n",
    "import statsmodels.api as sm\n",
    "import seaborn as sns\n",
    "import squarify\n",
    "\n",
    "import matplotlib.pyplot as plt\n",
    "import matplotlib\n",
    "plt.style.use('fivethirtyeight')\n",
    "\n",
    "import plotly.offline as py \n",
    "py.init_notebook_mode(connected=True) # this code, allow us to work with offline plotly version\n",
    "import plotly.graph_objs as go # it's like \"plt\" of matplot\n",
    "import plotly.tools as tls # It's useful to we get some tools of plotly\n",
    "\n",
    "from folium import Map\n",
    "from folium.plugins import HeatMap\n",
    "from folium.plugins import FastMarkerCluster\n",
    "\n",
    "import warnings\n",
    "warnings.filterwarnings(\"ignore\")\n",
    "\n",
    "from selenium import webdriver\n",
    "from selenium.webdriver.common.by import By\n",
    "from datetime import datetime, date"
   ]
  },
  {
   "cell_type": "code",
   "execution_count": null,
   "id": "459f9bb2",
   "metadata": {},
   "outputs": [],
   "source": [
    "# FUNÇÃO PARA IMPORTAR DATASET\n",
    "\n",
    "dir_path = \"data/\"\n",
    "\n",
    "def importaData(files):\n",
    "    \n",
    "    data = dir_path + files\n",
    "    allFiles = glob.glob('data/*.csv')\n",
    "\n",
    "    list_ = []\n",
    "    cols = ['ANO_BO', 'DATAOCORRENCIA', 'PERIDOOCORRENCIA', 'BAIRRO', 'CIDADE', 'LATITUDE', 'LONGITUDE', 'LOGRADOURO', \\\n",
    "           'DESCRICAOLOCAL', 'DESCR_TIPO_VEICULO']\n",
    "\n",
    "    for file_ in allFiles:\n",
    "        print(file_)\n",
    "        df = pd.read_csv(file_,index_col=None, header=0, delimiter=';', usecols=cols)\n",
    "        list_.append(df)\n",
    "\n",
    "    df = pd.concat(list_, axis = 0, ignore_index = True)\n",
    "    \n",
    "    return df\n",
    "\n",
    "# IMPORTANDO DATASET\n",
    "\n",
    "all_data = importaData('*.csv')"
   ]
  },
  {
   "cell_type": "code",
   "execution_count": null,
   "id": "b734b3a4",
   "metadata": {},
   "outputs": [],
   "source": []
  }
 ],
 "metadata": {
  "kernelspec": {
   "display_name": "Python 3 (ipykernel)",
   "language": "python",
   "name": "python3"
  },
  "language_info": {
   "codemirror_mode": {
    "name": "ipython",
    "version": 3
   },
   "file_extension": ".py",
   "mimetype": "text/x-python",
   "name": "python",
   "nbconvert_exporter": "python",
   "pygments_lexer": "ipython3",
   "version": "3.10.9"
  }
 },
 "nbformat": 4,
 "nbformat_minor": 5
}
