{
 "cells": [
  {
   "cell_type": "markdown",
   "metadata": {},
   "source": [
    "# OBS: \n",
    "\n",
    "#### Este notebook possui HTML/Javascript incorporado a alguns graficos, que não são renderizados pelo github. \n",
    "#### Para a visualização de todos os gráficos e do notebook completo, abra o notebook com o __NBViewer__. \n",
    "\n",
    "<br>\n",
    "\n",
    "# Estudo das Ocorrências de Roubo de Celular na Capital de SP\n",
    "\n",
    "<br>\n",
    "\n",
    "### Índice:\n",
    "1. Introdução\n",
    "2. Importando Bibliotecas e Datasets\n",
    "3. Conhecendo os Dados\n",
    "4. Pré-processamento\n",
    "5. Análise Exploratória\n",
    "6. Prevendo Roubos de Celular \n",
    "<br>    6.1. - Modelagem ARIMA\n",
    "<br>    6.2. - Validação\n",
    "<br>    6.3. - Previsão\n",
    "\n",
    "\n",
    "### 1. Introdução:\n",
    "\n",
    "#### Apresentando o dataset:\n",
    "__ANO_BO__ - Ano de registro da ocorrência.\n",
    "<br>__DATAOCORRENCIA__: Data do roubo do celular.\n",
    "<br>__PERIDOOCORRENCIA__: Período do roubo do celular.\n",
    "<br>__BAIRRO__ - Bairro em que o celular foi roubado.\n",
    "<br>__CIDADE__ - Cidade em que o celular foi roubado.\n",
    "<br>__LATITUDE__ - Latitude em que o celular foi roubado.\n",
    "<br>__LONGITUDE__ - Longitude em que o celular foi roubado.\n",
    "<br>__LOGRADOURO__ - Logradouro em que o celular foi roubado.\n",
    "<br>__DESCRICAOLOCAL__ - Descrição do local em que o celular foi roubado.\n",
    "<br>__DESCR_TIPO_VEICULO__ - Descrição do veículo em que o celular foi roubado.\n",
    "\n",
    "\n",
    "#### Objetivos:\n",
    " - Determinar como as ocorrências de roubo de celular evoluiram em relação ao tempo.\n",
    " - Determinar os períodos onde ocorrem os maiores números de roubo de celular.\n",
    " - Determinar os logradouros, bairros e regiões com maiores números de roubo de celular.\n",
    " - Determinar os locais com maiores números de roubo de celular.\n",
    " - Determinar veículos com maiores números de roubo de celular em veículo.\n",
    " - Utilizar o modelo ARIMA para prever o número de ocorrências nos próximos anos.\n",
    " \n",
    " \n",
    "#### Sobre o dataset:\n",
    "\n",
    "Desde 1995, a Secretaria da Segurança Pública divulga de forma pioneira no Brasil os indicadores criminais <br>\n",
    "trimestralmente no Diário oficial.\n",
    "\n",
    "Em decorrência da evolução da tecnologia e o amplo uso da internet, a partir de abril de 2011 esses dados <br>\n",
    "passaram a ser divulgados em seu site mensalmente por região, município e unidade policial.<br>\n",
    "\n",
    "Além desses dados, são apresentados estudos como o Perfil de Homicídio e o Perfil de Roubos além da <br>\n",
    "produtividade policial.\n",
    "\n",
    "Ampliando essa divulgação, desde 09 de maio de 2016, a SSP/SP mantém o maior portal de informações sobre <br>\n",
    "segurança pública do país, disponibilizando boletins de ocorrência, inclusive os complementares, disponíveis <br>\n",
    "no sistema Registro Digital de Ocorrências da Polícia Civil (RDO) desde 2003, em relação aos homicídios dolosos, <br>\n",
    "latrocínios e lesão corporal seguida de morte e registrados a partir de 2013, tanto em relação a morte decorrente <br>\n",
    "de oposição intervenção policial, quanto em relação aos casos de mortes suspeitas.\n",
    "\n",
    "Na mesma data também foi disponibilizada tabela de dados referentes aos óbitos que deram entrada no Instituto <br>\n",
    "Médico Legal (IML) desde 2013, ano em que foi implantado o serviço digital de Gestão de Laudos (GDL) da <br>\n",
    "Superintendência da Polícia Técnico-Cientifica (SPTC), com os respectivos números dos laudos e boletins de <br>\n",
    "ocorrência, data de entrada no IML, características das vítimas e número da Declaração de Óbito.\n",
    "\n",
    "Com a evolução do serviço, em abril de 2017, foram incluídos para pesquisa todos os boletins de roubo e de <br>\n",
    "furto de veículos disponíveis no RDO desde 2003, além da melhoria do serviço pela possibilidade de extração <br>\n",
    "dos dados em formato excel.\n",
    "\n",
    "Em 25 de maio de 2017, para atendimento a uma necessidade demonstrada através de inúmeros pedidos dirigidos à <br>\n",
    "Secretaria, foram disponibilizados todos os boletins de ocorrência de roubo e furto onde há ao menos um celular <br>\n",
    "subtraído.\n",
    "\n",
    "Fonte: http://www.ssp.sp.gov.br/transparenciassp/Default.aspx\n",
    "\n",
    "Os dados estão disponibilizados em http://www.ssp.sp.gov.br/transparenciassp/Consulta.aspx"
   ]
  },
  {
   "cell_type": "markdown",
   "metadata": {},
   "source": [
    "### 2. Importando Bibliotecas e Datasets"
   ]
  },
  {
   "cell_type": "code",
   "execution_count": null,
   "metadata": {},
   "outputs": [],
   "source": [
    "!pip install squarify\n",
    "!pip install folium\n",
    "!pip install statsmodels\n",
    "!pip install seaborn\n",
    "!pip install plotly\n",
    "!pip install chart_studio\n",
    "!conda install -c plotly chart-studio"
   ]
  },
  {
   "cell_type": "code",
   "execution_count": null,
   "metadata": {},
   "outputs": [],
   "source": [
    "# IMPORTANDO BIBLIOTECAS\n",
    "\n",
    "import pandas as pd\n",
    "import glob\n",
    "import re\n",
    "import itertools\n",
    "import numpy as np\n",
    "import statsmodels.api as sm\n",
    "import seaborn as sns\n",
    "import squarify\n",
    "\n",
    "import matplotlib.pyplot as plt\n",
    "import matplotlib\n",
    "plt.style.use('fivethirtyeight')\n",
    "\n",
    "import plotly.offline as py \n",
    "py.init_notebook_mode(connected=True) # this code, allow us to work with offline plotly version\n",
    "import plotly.graph_objs as go # it's like \"plt\" of matplot\n",
    "import plotly.tools as tls # It's useful to we get some tools of plotly\n",
    "\n",
    "from folium import Map\n",
    "from folium.plugins import HeatMap\n",
    "from folium.plugins import FastMarkerCluster\n",
    "\n",
    "import warnings\n",
    "warnings.filterwarnings(\"ignore\")\n",
    "\n",
    "from selenium import webdriver\n",
    "from selenium.webdriver.common.by import By\n",
    "from datetime import datetime, date\n",
    "import time\n",
    "from pathlib import Path"
   ]
  },
  {
   "cell_type": "code",
   "execution_count": null,
   "metadata": {},
   "outputs": [],
   "source": [
    "hoje = date.today()\n",
    "\n",
    "ano = hoje.strftime('%y')\n",
    "mes = str(hoje.month-1)\n",
    "dia = hoje.day\n",
    "\n",
    "ano = '23'\n",
    "ano_completo = '2023'\n",
    "mes = '2'\n",
    "dia = 15\n",
    "\n",
    "dir = \"C:\\\\Users\\\\joaop\\\\PI4\\\\data\"\n",
    "arquivo_csv = Path(dir, 'DadosBO_'+ano_completo+'_'+mes+'(ROUBO DE CELULAR)'+'.csv')\n",
    "arquivo_xls = Path(dir, 'DadosBO_'+ano_completo+'_'+mes+'(ROUBO DE CELULAR)'+'.xls')\n",
    "arquivo = 'DadosBO_'+ano_completo+'_'+mes+'(ROUBO DE CELULAR)'+'.xls'\n",
    "print(arquivo_csv)\n",
    "print(arquivo_xls)\n",
    "print(arquivo)\n",
    "\n",
    "opcoes = webdriver.ChromeOptions()\n",
    "opcoes.add_experimental_option(\n",
    "    'prefs',{\n",
    "    #muda o diretorio default de download\n",
    "    \"download.default_directory\": dir,\n",
    "    \n",
    "    #verific se o diretorio foi atualizado\n",
    "    #define True para informar q o diretorio e seguro\n",
    "    \"download.directory_upgrade\": True,\n",
    "    \n",
    "    #define false para fazer o download automatico sem solicitar confirmacao\n",
    "    \"download.prompt_for_download\": False\n",
    "            \n",
    "    #\"extensionLoadTimeout\": 1200000\n",
    "               \n",
    "    }\n",
    ")\n",
    "#opcoes.add_argument(\"--headless\")\n",
    "opcoes.add_argument(\"--disable-gpu\")\n",
    "opcoes.add_argument(\"enable-features=NetworkServiceInProcess\")\n",
    "opcoes.add_argument(\"--no-sandbox\")\n",
    "\n",
    "print((arquivo_csv.is_file()))\n",
    "\n",
    "if (arquivo_csv.exists()):\n",
    "    print('Arquivo csv existe...')\n",
    "if (arquivo_xls.exists()):\n",
    "    print('Arquivo xls existe...')\n",
    "\n",
    "if  (dia == 15) & (not(arquivo_csv.exists())) & (not(arquivo_xls.exists())):\n",
    "    navegador = webdriver.Chrome(options=opcoes)\n",
    "    \n",
    "    print('Aguarde o arquivo {} está sendo baixado....'.format(arquivo))\n",
    "    navegador.get('https://www.ssp.sp.gov.br/transparenciassp/Consulta2022.aspx/')\n",
    "    #botao_roubo_celular = navegador.find_element(By.XPATH, \"//a[@id='cphBody_btnRouboCelular']\").click()\n",
    "    botao_roubo_celular = navegador.find_element(By.ID, 'cphBody_btnRouboCelular').click()\n",
    "    ano_roubo_celular = navegador.find_element(By.ID, 'cphBody_lkAno'+ano).click()\n",
    "    mes_roubo_celular = navegador.find_element(By.ID, 'cphBody_lkMes'+mes).click()\n",
    "    # timeout de 20 min para aguardar que o arquivo consiga ser carregado\n",
    "    navegador.set_page_load_timeout(1200000)\n",
    "    botao_export = navegador.find_element(By.ID, 'cphBody_ExportarBOLink').click()\n",
    "    time.sleep(20)\n",
    "    navegador.quit()\n"
   ]
  },
  {
   "cell_type": "code",
   "execution_count": null,
   "metadata": {},
   "outputs": [],
   "source": [
    "# copiar arquivo baixado \n",
    "if (arquivo_xls.exists()):\n",
    "    arquivo_velho = os.path.join(dir, 'DadosBO_'+ano_completo+'_'+mes+'(ROUBO DE CELULAR)'+'.xls')\n",
    "    arquivo_novo = os.path.join(dir, 'DadosBO_'+ano_completo+'_'+mes+'(ROUBO DE CELULAR)'+'.csv')\n",
    "    os.rename(arquivo_velho, arquivo_novo)"
   ]
  },
  {
   "cell_type": "code",
   "execution_count": null,
   "metadata": {},
   "outputs": [],
   "source": [
    "# FUNÇÃO PARA IMPORTAR DATASET\n",
    "\n",
    "dir_path = \"data/\"\n",
    "\n",
    "def importaData(files):\n",
    "    \n",
    "    data = dir_path + files\n",
    "    allFiles = glob.glob('data/*.csv')\n",
    "\n",
    "    list_ = []\n",
    "    cols = ['ANO_BO', 'DATAOCORRENCIA', 'PERIDOOCORRENCIA', 'BAIRRO', 'CIDADE', 'LATITUDE', 'LONGITUDE', 'LOGRADOURO', \\\n",
    "           'DESCRICAOLOCAL', 'DESCR_TIPO_VEICULO', 'MARCA_CELULAR']\n",
    "\n",
    "    for file_ in allFiles:\n",
    "        df = pd.read_csv(file_,index_col=None, header=0, delimiter=';', usecols=cols)\n",
    "        list_.append(df)\n",
    "\n",
    "    df = pd.concat(list_, axis = 0, ignore_index = True)\n",
    "    \n",
    "    return df\n",
    "\n",
    "# IMPORTANDO DATASET\n",
    "\n",
    "all_data = importaData('*.csv')"
   ]
  },
  {
   "cell_type": "markdown",
   "metadata": {},
   "source": [
    "### 3. Conhecendo os Dados"
   ]
  },
  {
   "cell_type": "code",
   "execution_count": null,
   "metadata": {},
   "outputs": [],
   "source": [
    "# VISUALIZANDO DATAFRAME\n",
    "\n",
    "all_data.tail()"
   ]
  },
  {
   "cell_type": "code",
   "execution_count": null,
   "metadata": {},
   "outputs": [],
   "source": [
    "all_data.to_csv('data/tratados/ocorrencias_roubo_celular.csv', index = False, sep=';')\n",
    "all_data = pd.read_csv('data/tratados/ocorrencias_roubo_celular.csv', sep=';')\n",
    "all_data.head()"
   ]
  },
  {
   "cell_type": "code",
   "execution_count": null,
   "metadata": {},
   "outputs": [],
   "source": [
    "# DESCRIÇÃO ESTATÍSTICA\n",
    "\n",
    "all_data.describe()"
   ]
  },
  {
   "cell_type": "code",
   "execution_count": null,
   "metadata": {},
   "outputs": [],
   "source": [
    "print(\"Tipos de dados e valores 'missing': \")\n",
    "\n",
    "all_data.info()"
   ]
  },
  {
   "cell_type": "markdown",
   "metadata": {},
   "source": [
    "### 4. Pré-processamento"
   ]
  },
  {
   "cell_type": "code",
   "execution_count": null,
   "metadata": {},
   "outputs": [],
   "source": [
    "# REMOVENDO DADOS DUPLICADOS\n",
    "\n",
    "def removeDuplicados(df):\n",
    "    \n",
    "    print('Quantidade de dados duplicados: ', df.duplicated().sum())\n",
    "    df.drop_duplicates(inplace=True)\n",
    "    print('Quantidade de dados duplicados após remoção: ', df.duplicated().sum())\n",
    "    \n",
    "    return df\n",
    "\n",
    "all_data = removeDuplicados(all_data)"
   ]
  },
  {
   "cell_type": "code",
   "execution_count": null,
   "metadata": {},
   "outputs": [],
   "source": [
    "# FILTRANDO DADOS DE S.PAULO\n",
    "\n",
    "def filtraSP(df):\n",
    "\n",
    "    df.CIDADE.fillna('S.PAULO')\n",
    "    df = df[df['CIDADE'] == 'S.PAULO']\n",
    "    del df['CIDADE']\n",
    "    \n",
    "    return df\n",
    "\n",
    "all_data = filtraSP(all_data)"
   ]
  },
  {
   "cell_type": "code",
   "execution_count": null,
   "metadata": {},
   "outputs": [],
   "source": [
    "# TRANSFORMANDO STRINGS PARA LOWER CASE\n",
    "\n",
    "def lowerCase(df, cols):\n",
    "    for col in cols:\n",
    "        df[col] = df[col].str.title()\n",
    "    \n",
    "    return df\n",
    "\n",
    "colsToLower = [\"PERIDOOCORRENCIA\", \"LOGRADOURO\", \"BAIRRO\", \"DESCR_TIPO_VEICULO\"]\n",
    "\n",
    "all_data = lowerCase(all_data, colsToLower)"
   ]
  },
  {
   "cell_type": "code",
   "execution_count": null,
   "metadata": {},
   "outputs": [],
   "source": [
    "# PADRONIZANDO STRINGS\n",
    "\n",
    "def correct_string(string):\n",
    "        string = string.replace('Avenida ', 'Av. ').replace('Av ', 'Av. ').replace('Rua ', 'R. ').replace('R ', 'R. ') \\\n",
    "                    .replace('R ', 'R. ').replace(',', '.').replace('Praça ', 'Pr. ').replace('Pr ', 'Pr. ') \\\n",
    "                    .replace('Pública', 'pública').replace('Jardim', 'Jd.').replace('Jd ', 'Jd. ')\n",
    "        return string\n",
    "\n",
    "all_data.DESCRICAOLOCAL = all_data.astype(str).DESCRICAOLOCAL.apply(correct_string)  \n",
    "all_data.LOGRADOURO = all_data.astype(str).LOGRADOURO.apply(correct_string)\n",
    "all_data.LATITUDE = all_data.LATITUDE.astype(str).apply(correct_string).astype(float)\n",
    "all_data.LONGITUDE = all_data.LONGITUDE.astype(str).apply(correct_string).astype(float)"
   ]
  },
  {
   "cell_type": "code",
   "execution_count": null,
   "metadata": {},
   "outputs": [],
   "source": [
    "# TRANSFORMANDO DADOS TEMPORAIS\n",
    "\n",
    "def tratarDatas(df, col = 'DATAOCORRENCIA'):\n",
    "    df[col] = pd.to_datetime(df[col], format='%d/%m/%Y', errors='coerce')\n",
    "\n",
    "    indexs = []\n",
    "\n",
    "    for row in df[col].items():\n",
    "        if row[1] < pd.datetime(2017, 1, 1):\n",
    "            indexs.append(row[0])\n",
    "        \n",
    "    df.drop(index=indexs, axis=1, inplace=True)\n",
    "\n",
    "    df['diasemana'] = df[col].dt.day_name()\n",
    "    df['mesano'] = df[col].dt.strftime('%Y-%m')\n",
    "    df['mes'] = df[col].dt.month\n",
    "\n",
    "    df.drop(index=df[df['mesano'] == 'NaT'].index, inplace=True, axis=0)\n",
    "    \n",
    "    return df\n",
    "    \n",
    "all_data = tratarDatas(all_data)"
   ]
  },
  {
   "cell_type": "markdown",
   "metadata": {},
   "source": [
    "### 5. Análise Exploratória"
   ]
  },
  {
   "cell_type": "code",
   "execution_count": null,
   "metadata": {},
   "outputs": [],
   "source": [
    "# VISUALIZANDO DATAFRAME LIMPO\n",
    "\n",
    "all_data.head()"
   ]
  },
  {
   "cell_type": "code",
   "execution_count": null,
   "metadata": {
    "scrolled": true
   },
   "outputs": [],
   "source": [
    "df_ts = all_data.groupby('DATAOCORRENCIA').count()[\"ANO_BO\"].to_frame().rename(columns={\"ANO_BO\": \"OCORRENCIAS\"})\n",
    "\n",
    "trace = [go.Scatter(x = df_ts.index, y = df_ts.OCORRENCIAS)]\n",
    "\n",
    "layout = dict(\n",
    "    title='Ocorrências de Roubo de Celular',\n",
    "    xaxis=dict(\n",
    "        rangeselector=dict(\n",
    "            buttons=list([\n",
    "                dict(count=12,\n",
    "                     label='1yr',\n",
    "                     step='month',\n",
    "                     stepmode='backward'),\n",
    "                dict(count=6,\n",
    "                     label='6m',\n",
    "                     step='month',\n",
    "                     stepmode='backward'),\n",
    "                dict(count=3,\n",
    "                     label='3m',\n",
    "                     step='month',\n",
    "                     stepmode='backward'),\n",
    "                dict(count=1,\n",
    "                     label='1m',\n",
    "                     step='month',\n",
    "                     stepmode='backward'),\n",
    "                dict(count=7,\n",
    "                     label='1w',\n",
    "                     step='day',\n",
    "                     stepmode='backward'),\n",
    "                dict(count=5,\n",
    "                     label='5d',\n",
    "                     step='day',\n",
    "                     stepmode='backward'),\n",
    "                dict(count=1,\n",
    "                     label='1d',\n",
    "                     step='day',\n",
    "                     stepmode='backward'),\n",
    "                dict(step='all')\n",
    "            ])\n",
    "        ),\n",
    "        rangeslider=dict(\n",
    "            visible = True\n",
    "        ),\n",
    "        type='date'\n",
    "    )\n",
    ")\n",
    "\n",
    "fig = dict(data=trace, layout=layout)\n",
    "py.iplot(fig)"
   ]
  },
  {
   "cell_type": "code",
   "execution_count": null,
   "metadata": {},
   "outputs": [],
   "source": [
    "ocorrencias = all_data.groupby('mesano').count()['ANO_BO'].reset_index()\n",
    "ocorrencias.rename(columns={'mesano': 'Data', 'ANO_BO':'Ocorrências de Roubo de Celular'}, inplace=True)\n",
    "\n",
    "trace = [go.Scatter(x = ocorrencias.Data, y = ocorrencias['Ocorrências de Roubo de Celular'])]\n",
    "\n",
    "layout = dict(\n",
    "    title='Ocorrências de Roubo de Celular por Mês',\n",
    "    yaxis=dict(\n",
    "    title='Ocorrências'\n",
    "    ),\n",
    "    xaxis=dict(\n",
    "        rangeselector=dict(\n",
    "            buttons=list([\n",
    "                dict(count=12,\n",
    "                     label='1yr',\n",
    "                     step='month',\n",
    "                     stepmode='backward'),\n",
    "                dict(count=6,\n",
    "                     label='6m',\n",
    "                     step='month',\n",
    "                     stepmode='backward'),\n",
    "                dict(step='all')\n",
    "            ])\n",
    "        ),\n",
    "        rangeslider=dict(\n",
    "            visible = True\n",
    "        ),\n",
    "        type='date'\n",
    "    )\n",
    ")\n",
    "\n",
    "fig = dict(data=trace, layout=layout)\n",
    "py.iplot(fig)"
   ]
  },
  {
   "cell_type": "markdown",
   "metadata": {},
   "source": [
    "Claramente podemos ver uma tendência de aumento no número de ocorrência de roubo de celular.\n",
    "<br><br>Alguns dos fatores que podem explicar esse aumento são:\n",
    "<br> - Aumento do número de aparelhos celulares e smartphones.\n",
    "<br> - Aumento na utilização dos aparelhos em público, devido ao avanço de tecnologias de troca de mensagens.\n",
    "<br> - Aumento da criminalidade.\n",
    "<br> - Aumento no número de boletins de ocorrências devido as plataformas digitais."
   ]
  },
  {
   "cell_type": "code",
   "execution_count": null,
   "metadata": {},
   "outputs": [],
   "source": [
    "# CALCULANDO VARIAÇÕES NO NÚMERO DE OCORRÊNCIAS POR ANO\n",
    "\n",
    "all_data.ANO_BO = all_data.ANO_BO.astype(int)\n",
    "ocorrencias_ano = all_data.groupby('ANO_BO').count()['DATAOCORRENCIA'].reset_index()\n",
    "ocorrencias_ano['VARIACAO'] = 0\n",
    "ocorrencias_ano['VARIACAO_ACUMULADA'] = 0\n",
    "\n",
    "for i in range (0, 6):\n",
    "    ocorrencias_ano.iloc[i+1, 2] = round((1 - (ocorrencias_ano.iloc[i, 1] / ocorrencias_ano.iloc[i+1, 1])) * 100, 2)\n",
    "    ocorrencias_ano.iloc[i+1, 3] = round((ocorrencias_ano.iloc[i, 3] + ocorrencias_ano.iloc[i+1, 2]), 2)\n",
    "    \n",
    "ocorrencias_ano.VARIACAO = ocorrencias_ano.VARIACAO.astype(str) + ' %'\n",
    "ocorrencias_ano.VARIACAO_ACUMULADA = ocorrencias_ano.VARIACAO_ACUMULADA.astype(str) + ' %'\n",
    "    \n",
    "ocorrencias_ano"
   ]
  },
  {
   "cell_type": "code",
   "execution_count": null,
   "metadata": {},
   "outputs": [],
   "source": [
    "data = [\n",
    "    go.Bar(\n",
    "        x = ocorrencias_ano.ANO_BO.values[1:],\n",
    "        y = ocorrencias_ano.VARIACAO.values[1:],\n",
    "        marker = dict(\n",
    "          color = ['green', 'green', 'green', 'green', 'red', 'green', 'red', 'red']\n",
    "        ),\n",
    "        name = 'Variação com ano anterior'\n",
    "    ), \n",
    "    go.Scatter(\n",
    "        x = ocorrencias_ano.ANO_BO.values[1:], \n",
    "        y = ocorrencias_ano.VARIACAO_ACUMULADA.values[1:],\n",
    "        marker = dict(\n",
    "          color = 'blue'\n",
    "        ),        \n",
    "        name = 'Variação acumulada'\n",
    "    )\n",
    "]\n",
    "\n",
    "layout = dict(\n",
    "    title='Variação do Número de Ocorrências de Roubo de Celular',\n",
    "    yaxis=dict(\n",
    "        title='Variação (%)',\n",
    "        ),\n",
    "    )\n",
    "\n",
    "fig = dict(data=data, layout=layout)\n",
    "py.iplot(fig)"
   ]
  },
  {
   "cell_type": "code",
   "execution_count": null,
   "metadata": {},
   "outputs": [],
   "source": [
    "all_data['diasemana'] = pd.Categorical(all_data['diasemana'], categories=['Monday','Tuesday','Wednesday','Thursday','Friday','Saturday', 'Sunday'], ordered=True)\n",
    "\n",
    "trace = [go.Bar(\n",
    "            x = all_data['diasemana'].value_counts().sort_index().index,\n",
    "            y = all_data['diasemana'].value_counts().sort_index().values,\n",
    "            textposition = 'auto',\n",
    "            marker=dict(\n",
    "                color='rgb(158,202,225)',\n",
    "                line=dict(\n",
    "                    color='rgb(8,48,107)',\n",
    "                    width=1,\n",
    "                    )\n",
    "                ),\n",
    "            opacity=0.8\n",
    ")]\n",
    "           \n",
    "layout = go.Layout(\n",
    "    title='Ocorrências de Roubo de Celular por Dia da Semana (2017 - 2022)',\n",
    "    yaxis=dict(\n",
    "        title='Ocorrências'\n",
    "        ),\n",
    ")\n",
    "\n",
    "fig = go.Figure(data=trace, layout=layout)\n",
    "\n",
    "py.iplot(fig)"
   ]
  },
  {
   "cell_type": "code",
   "execution_count": null,
   "metadata": {},
   "outputs": [],
   "source": [
    "colors = ['#170B3B', '#A9D0F5', '#08088A', '#DBA901']\n",
    "\n",
    "trace = [go.Pie(labels=all_data.PERIDOOCORRENCIA.unique(), values=all_data.PERIDOOCORRENCIA.value_counts().values,\n",
    "               hoverinfo='label+percent', \n",
    "               textfont=dict(size=18),\n",
    "               marker=dict(colors=colors, \n",
    "                           line=dict(color='#000000', width=2)))]\n",
    "\n",
    "layout = go.Layout(\n",
    "    title='Período das Ocorrências de Roubo de Celular (2017 - 2022)'\n",
    ")\n",
    "\n",
    "fig = go.Figure(data = trace, layout = layout)\n",
    "\n",
    "py.iplot(fig)"
   ]
  },
  {
   "cell_type": "code",
   "execution_count": null,
   "metadata": {},
   "outputs": [],
   "source": [
    "# FILTRANDO DADOS DE 2022\n",
    "\n",
    "data = all_data[all_data[\"ANO_BO\"] == 2022].copy()"
   ]
  },
  {
   "cell_type": "code",
   "execution_count": null,
   "metadata": {},
   "outputs": [],
   "source": [
    "trace = [go.Bar(\n",
    "            y = data['DESCRICAOLOCAL'].value_counts().index,\n",
    "            x = data['DESCRICAOLOCAL'].value_counts().values,\n",
    "            orientation='h',\n",
    "            textposition = 'auto',\n",
    "            marker=dict(\n",
    "                color='rgb(158,202,225)',\n",
    "                line=dict(\n",
    "                    color='rgb(8,48,107)',\n",
    "                    width=1,\n",
    "                    )\n",
    "                ),\n",
    "            opacity=0.8\n",
    ")]\n",
    "           \n",
    "layout = go.Layout(\n",
    "    height=800,\n",
    "    title='Locais das Ocorrências de Roubo de Celular em 2022',\n",
    "    xaxis=dict(\n",
    "        title = 'Ocorrências',\n",
    "        type='log',\n",
    "        ),\n",
    "     yaxis=go.layout.YAxis(\n",
    "     automargin=True\n",
    "     )\n",
    ")\n",
    "\n",
    "fig = go.Figure(data=trace, layout=layout)\n",
    "\n",
    "py.iplot(fig)"
   ]
  },
  {
   "cell_type": "markdown",
   "metadata": {},
   "source": [
    "As vias públicas são os locais de grande preferência da criminalidade para roubar celulares."
   ]
  },
  {
   "cell_type": "code",
   "execution_count": null,
   "metadata": {},
   "outputs": [],
   "source": [
    "data_ = data[(data['DESCR_TIPO_VEICULO'] != 'Inexist.') & (data['DESCR_TIPO_VEICULO'] != 'Não Informado')]\n",
    "\n",
    "trace = [go.Bar(\n",
    "            x = data_[\"DESCR_TIPO_VEICULO\"].value_counts().index,\n",
    "            y = data_[\"DESCR_TIPO_VEICULO\"].value_counts().values,\n",
    "            text=data_[\"DESCR_TIPO_VEICULO\"].value_counts().values,\n",
    "            textposition = 'auto',\n",
    "            marker=dict(\n",
    "                color='rgb(158,202,225)',\n",
    "                line=dict(\n",
    "                    color='rgb(8,48,107)',\n",
    "                    width=1,\n",
    "                    )\n",
    "                ),\n",
    "            opacity=0.8\n",
    ")]\n",
    "           \n",
    "layout = go.Layout(\n",
    "    title='Ocorrências de Roubo de Celular em Veículos (2022)',\n",
    "    yaxis=dict(\n",
    "        title='Ocorrências',\n",
    "        ),\n",
    ")\n",
    "\n",
    "fig = go.Figure(data=trace, layout=layout)\n",
    "\n",
    "py.iplot(fig)"
   ]
  },
  {
   "cell_type": "code",
   "execution_count": null,
   "metadata": {},
   "outputs": [],
   "source": [
    "fig, ax = plt.subplots(figsize=(15,9))\n",
    "\n",
    "cmap = matplotlib.cm.coolwarm\n",
    "mini = data.LOGRADOURO.value_counts().values[19]\n",
    "maxi = data.LOGRADOURO.value_counts().values[0]\n",
    "norm = matplotlib.colors.Normalize(vmin=mini, vmax=maxi)\n",
    "colors = [cmap(norm(value)) for value in data.LOGRADOURO.value_counts().iloc[:100].values]\n",
    "\n",
    "squarify.plot(sizes=data.LOGRADOURO.value_counts().iloc[:20].values, label=data.LOGRADOURO.value_counts().iloc[:20].index, color=colors)\n",
    "\n",
    "plt.axis('off')\n",
    "plt.title(\"Locais com mais ocorrências de roubo de celular em 2022\", fontsize=18)\n",
    "ttl = ax.title\n",
    "ttl.set_position([.5, 1.05])"
   ]
  },
  {
   "cell_type": "code",
   "execution_count": null,
   "metadata": {},
   "outputs": [],
   "source": [
    "fig, ax = plt.subplots(figsize=(15,9))\n",
    "\n",
    "cmap = matplotlib.cm.coolwarm\n",
    "mini = data.BAIRRO.value_counts().values[49]\n",
    "maxi = data.BAIRRO.value_counts().values[0]\n",
    "norm = matplotlib.colors.Normalize(vmin=mini, vmax=maxi)\n",
    "colors = [cmap(norm(value)) for value in data.BAIRRO.value_counts().iloc[:100].values]\n",
    "\n",
    "squarify.plot(sizes=data.BAIRRO.value_counts().iloc[:50].values, label=data.BAIRRO.value_counts().iloc[:50].index, color=colors)\n",
    "\n",
    "plt.axis('off')\n",
    "plt.title(\"Bairros com mais ocorrências de roubo de celular em 2022\", fontsize=18)\n",
    "ttl = ax.title\n",
    "ttl.set_position([.5, 1.05])"
   ]
  },
  {
   "cell_type": "code",
   "execution_count": null,
   "metadata": {},
   "outputs": [],
   "source": [
    "# REMOVENDO NAs E CRIANDO COLUNA COORDENADAS\n",
    "\n",
    "df = data.dropna(subset=['LATITUDE', 'LONGITUDE']).copy()\n",
    "df = df[df['DATAOCORRENCIA'] > \"2022-10-01\"]\n",
    "df['coord'] = df[['LATITUDE','LONGITUDE']].apply(tuple, axis=1)"
   ]
  },
  {
   "cell_type": "markdown",
   "metadata": {},
   "source": [
    "#### Mapa de Calor dos Roubos de Celulares em Outubro e Novembro de 2018"
   ]
  },
  {
   "cell_type": "code",
   "execution_count": null,
   "metadata": {},
   "outputs": [],
   "source": [
    "m = Map([-23.64992751, -46.62569322], zoom_start=10, width='100%', height='100%')\n",
    "m.add_child(HeatMap(df['coord'], radius=8))\n",
    "m"
   ]
  },
  {
   "cell_type": "markdown",
   "metadata": {},
   "source": [
    "#### ClusterMap dos Roubos de Celulares em Outubro e Novembro de 2018"
   ]
  },
  {
   "cell_type": "code",
   "execution_count": null,
   "metadata": {
    "scrolled": true
   },
   "outputs": [],
   "source": [
    "pointMap = Map([-23.550, -46.620], zoom_start=10.5, width='100%', height='100%')\n",
    "pointMap.add_child(FastMarkerCluster(df['coord']))\n",
    "pointMap"
   ]
  },
  {
   "cell_type": "markdown",
   "metadata": {},
   "source": [
    "## 6. Prevendo Roubos de Celular"
   ]
  },
  {
   "cell_type": "markdown",
   "metadata": {},
   "source": [
    "### 6.1. Modelagem ARIMA"
   ]
  },
  {
   "cell_type": "code",
   "execution_count": null,
   "metadata": {},
   "outputs": [],
   "source": [
    "# TRANSFORMANDO SÉRIE TEMPORAL\n",
    "\n",
    "ocorrencias.index =  ocorrencias.Data\n",
    "ocorrencias.drop(columns='Data', inplace=True)\n",
    "ocorrencias.index = pd.to_datetime(ocorrencias.index)"
   ]
  },
  {
   "cell_type": "code",
   "execution_count": null,
   "metadata": {},
   "outputs": [],
   "source": [
    "# IMPORTANDO BIBLIOTECAS\n",
    "\n",
    "from plotly.plotly import plot_mpl\n",
    "from chart_studio.plotly import iplot\n",
    "from statsmodels.tsa.seasonal import seasonal_decompose\n",
    "\n",
    "# DECOMPOSIÇÃO DA SÉRIE TEMPORAL\n",
    "\n",
    "result = seasonal_decompose(ocorrencias, model='multiplicative')\n",
    "g = result.plotly()\n",
    "g.set_figwidth(14)\n",
    "g.set_figheight(14)"
   ]
  },
  {
   "cell_type": "code",
   "execution_count": null,
   "metadata": {},
   "outputs": [],
   "source": [
    "# IMPORTANDO BIBLIOTECAS\n",
    "\n",
    "from statsmodels.graphics.tsaplots import plot_acf\n",
    "from statsmodels.graphics.tsaplots import plot_pacf\n",
    "\n",
    "# PLOT DE CORRELAÇÃO ACF\n",
    "\n",
    "g = plot_acf(ocorrencias, title=\"ACF Correlation\")\n",
    "g.set_figheight(8)\n",
    "g.set_figwidth(14)"
   ]
  },
  {
   "cell_type": "markdown",
   "metadata": {},
   "source": [
    "Podemos começar diferenciando a série temporal com ordem d = 1, a fim de obter uma série temporal estacionária. Se a série não representar bons resultados, outras diferenciações podem ser necessarias."
   ]
  },
  {
   "cell_type": "code",
   "execution_count": null,
   "metadata": {},
   "outputs": [],
   "source": [
    "# DIFERENCIANDO SÉRIE TEMPORAL\n",
    "\n",
    "ocorrencias_diff = ocorrencias.diff(periods=1)\n",
    "ocorrencias_diff = ocorrencias_diff[1:]"
   ]
  },
  {
   "cell_type": "code",
   "execution_count": null,
   "metadata": {},
   "outputs": [],
   "source": [
    "# PLOT DA SÉRIE TEMPORAL DIFERENCIADA COM D = 1\n",
    "\n",
    "g = ocorrencias_diff.plot(figsize=(14,8), title=\"Série Temporal Diferenciada\", legend=False)"
   ]
  },
  {
   "cell_type": "code",
   "execution_count": null,
   "metadata": {},
   "outputs": [],
   "source": [
    "# PLOT CORRELAÇÃO ACF\n",
    "\n",
    "g = plot_acf(ocorrencias_diff, title=\"ACF Correlation (d = 1)\")\n",
    "g.set_figheight(8)\n",
    "g.set_figwidth(14)"
   ]
  },
  {
   "cell_type": "markdown",
   "metadata": {},
   "source": [
    "Através do ACF plot, podemos ver que o valor q = 13, pode ser uma boa escolha de parâmetro."
   ]
  },
  {
   "cell_type": "code",
   "execution_count": null,
   "metadata": {},
   "outputs": [],
   "source": [
    "# DEFINE COMBINAÇÕES ENTRE p DE 0 A 3, d = 1, e q = 13\n",
    "pdq = [(p, 1, 13) for p in range(0, 4)]\n",
    "\n",
    "# DEFINE P e Q ENTRE 0 e 3\n",
    "P = Q = range(0, 4)\n",
    "\n",
    "# DEFINE COMBINAÇÕES ENTRE P, D e Q\n",
    "seasonal_pdq = [(x[0], 1, x[1], 12) for x in list(itertools.product(P, Q))]"
   ]
  },
  {
   "cell_type": "code",
   "execution_count": null,
   "metadata": {},
   "outputs": [],
   "source": [
    "# CALCULANDO OS MELHORES PARÂMETROS PARA O MODELO\n",
    "\n",
    "#scores = {}\n",
    "\n",
    "#for param in pdq:\n",
    "#    for param_seasonal in seasonal_pdq:\n",
    "#        try:\n",
    "#            mod = sm.tsa.statespace.SARIMAX(ocorrencias,\n",
    "#                                            order=param,\n",
    "#                                            seasonal_order=param_seasonal,\n",
    "#                                            enforce_stationarity=False,\n",
    "#                                            enforce_invertibility=False)\n",
    "#\n",
    "#            results = mod.fit()\n",
    "#            scores[param, param_seasonal] = results.aic\n",
    "#            \n",
    "#        except:\n",
    "#            continue\n",
    "#            \n",
    "#print(\"Melhores parâmetros: \", min(scores, key=scores.get),\" AUC: \", min(scores.values()))"
   ]
  },
  {
   "cell_type": "markdown",
   "metadata": {},
   "source": [
    "Melhores parâmetros:  ((3, 1, 13), (3, 1, 0, 12))  AUC:  916.5604661162852"
   ]
  },
  {
   "cell_type": "code",
   "execution_count": null,
   "metadata": {},
   "outputs": [],
   "source": [
    "# CRIANDO MODELO COM OS MELHOERS PARÂMETROS \n",
    "\n",
    "mod = sm.tsa.statespace.SARIMAX(ocorrencias,\n",
    "                                order=(3, 1, 13),\n",
    "                                seasonal_order=(3, 1, 0, 12),\n",
    "                                enforce_stationarity=False,\n",
    "                                enforce_invertibility=False)\n",
    "\n",
    "results = mod.fit()"
   ]
  },
  {
   "cell_type": "code",
   "execution_count": null,
   "metadata": {},
   "outputs": [],
   "source": [
    "# RESUMO DO MODELO\n",
    "\n",
    "results.plot_diagnostics(figsize=(15, 12))\n",
    "plt.show()"
   ]
  },
  {
   "cell_type": "markdown",
   "metadata": {},
   "source": [
    "### 6.2. Validação"
   ]
  },
  {
   "cell_type": "code",
   "execution_count": null,
   "metadata": {},
   "outputs": [],
   "source": [
    "# VALIDAÇÃO DO MODELO: PREVENDO OCORRÊNCIAS A PARTIR DE 2017\n",
    "\n",
    "pred = results.get_prediction(start=pd.to_datetime('2017-01-01'), dynamic=False)\n",
    "pred_ci = pred.conf_int()\n",
    "\n",
    "ax = ocorrencias['2014':].plot(figsize=(14, 8))\n",
    "pred.predicted_mean.plot(ax=ax, label='Previsão', alpha=.7)\n",
    "\n",
    "ax.fill_between(pred_ci.index,\n",
    "                pred_ci.iloc[:, 0],\n",
    "                pred_ci.iloc[:, 1], color='k', alpha=.2)\n",
    "\n",
    "ax.set_title(\"Previsão de Ocorrências de Roubo de Celular\", fontsize=18)\n",
    "ax.set_xlabel('Data')\n",
    "ax.set_ylabel('Ocorrências de Roubo de Celular')\n",
    "plt.legend()\n",
    "\n",
    "plt.show()\n",
    "\n",
    "# CALCULANDO MSE\n",
    "\n",
    "y_forecasted = pred.predicted_mean\n",
    "y_truth = ocorrencias[\"2017-01-01\":].squeeze()\n",
    "\n",
    "mse = ((y_forecasted - y_truth) ** 2).mean()\n",
    "\n",
    "print('O Mean Squared Error da previsão foi {}'.format(round(mse)))"
   ]
  },
  {
   "cell_type": "markdown",
   "metadata": {},
   "source": [
    "### 6.3. Previsão"
   ]
  },
  {
   "cell_type": "code",
   "execution_count": null,
   "metadata": {},
   "outputs": [],
   "source": [
    "# PREVENDO OCORRÊNCIAS PARA OS PRÓXIMOS TRÊS ANOS\n",
    "\n",
    "pred_uc = results.get_forecast(steps=36)\n",
    "pred_ci = pred_uc.conf_int()\n",
    "\n",
    "ax = ocorrencias['2010':].plot(figsize=(14, 8))\n",
    "pred_uc.predicted_mean.plot(ax=ax, label='Previsão')\n",
    "ax.fill_between(pred_ci.index,\n",
    "                pred_ci.iloc[:, 0],\n",
    "                pred_ci.iloc[:, 1], color='k', alpha=.25)\n",
    "\n",
    "ax.set_title(\"Previsão de Ocorrências de Roubo de Celular\", fontsize=18)\n",
    "ax.set_xlabel('Data')\n",
    "ax.set_ylabel('Ocorrências de Roubo de Celular')\n",
    "\n",
    "plt.legend()\n",
    "plt.show()"
   ]
  },
  {
   "cell_type": "markdown",
   "metadata": {},
   "source": [
    "A previsão realizada pelo modelo ARIMA reforça a tendência histórica de crescimento dos roubos de celulares, com um intervalo de confiança relativamente alto, devido as variações encontradas na série temporal."
   ]
  }
 ],
 "metadata": {
  "kernelspec": {
   "display_name": "Python 3 (ipykernel)",
   "language": "python",
   "name": "python3"
  },
  "language_info": {
   "codemirror_mode": {
    "name": "ipython",
    "version": 3
   },
   "file_extension": ".py",
   "mimetype": "text/x-python",
   "name": "python",
   "nbconvert_exporter": "python",
   "pygments_lexer": "ipython3",
   "version": "3.10.9"
  }
 },
 "nbformat": 4,
 "nbformat_minor": 2
}
